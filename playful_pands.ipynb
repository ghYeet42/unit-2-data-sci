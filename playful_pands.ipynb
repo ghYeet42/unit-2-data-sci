{
 "cells": [
  {
   "cell_type": "markdown",
   "metadata": {},
   "source": [
    "# Playful Pandas\n",
    "`pandas` is a very popular and powerful Python module used by data scientists to perfom many tasks, and make their lives easier. In this lab you will be exploring and using the `pandas` library to be used in your unit project.\n",
    "\n",
    "For any questions, edit the appropriate markdown block and answer between the ` ``` ``` ` using complete sentences. \n",
    "\n",
    "For any code blocks you are to include comments explaining your code to recieve full credit."
   ]
  },
  {
   "attachments": {},
   "cell_type": "markdown",
   "metadata": {},
   "source": [
    "1. Go to the `pandas` documentation site [here](https://pandas.pydata.org/) to learn more about the library. In your own words describe what `pandas` is used for, and what features does it offer to data scientists?\n",
    "```\n",
    "Pandas is a Python library widely used in data science for data analysis and manipulation tasks. It offers data structures like DataFrame, allowing data scientists to handle and process structured data efficiently. Pandas is instrumental in cleaning, transforming, and exploring datasets. It simplifies tasks such as handling missing data, merging and joining datasets, and performing group operations. Data scientists use Pandas for data preprocessing, making it suitable for machine learning applications. Its powerful indexing and selection capabilities enable easy data slicing and manipulation. Additionally, Pandas integrates seamlessly with visualization libraries, aiding in data representation. Overall, Pandas is indispensable for data scientists, providing a versatile toolkit for managing and analyzing data, making it a cornerstone in the Python data science ecosystem.\n",
    "```\n",
    "\n",
    "2. Using the terminal install the `pandas` library. What command did you use?\n",
    "```\n",
    "\"pip3 install pandas\" or \"pip3 install pandas3\"\n",
    "```"
   ]
  },
  {
   "cell_type": "code",
   "execution_count": 4,
   "metadata": {},
   "outputs": [],
   "source": [
    "# Importing pandas\n",
    "import pandas as pd"
   ]
  },
  {
   "attachments": {},
   "cell_type": "markdown",
   "metadata": {},
   "source": [
    "3. `pandas` loads data into what is known as a dataframe (df for short). What function from the `pd` library is used to load data from a csv file?\n",
    "\n",
    "```\n",
    "To load data from a CSV file into a Pandas DataFrame, you can use the pd.read_csv(\"someFile.csv\") function.\n",
    "```\n"
   ]
  },
  {
   "cell_type": "markdown",
   "metadata": {},
   "source": [
    "Use this function in the code block below to load data from the file `titanic.csv` into a variable called `df`"
   ]
  },
  {
   "cell_type": "code",
   "execution_count": 5,
   "metadata": {},
   "outputs": [],
   "source": [
    "df = pd.read_csv(\"titanic.csv\")\n",
    "\n",
    "#set df var to hold the data from the titanic.csv file for later minipulation"
   ]
  },
  {
   "cell_type": "markdown",
   "metadata": {},
   "source": [
    "Now that we have our data loaded into pandas we can try out our first function `df.head()`. Run the code block below."
   ]
  },
  {
   "cell_type": "code",
   "execution_count": 6,
   "metadata": {},
   "outputs": [
    {
     "data": {
      "text/html": [
       "<div>\n",
       "<style scoped>\n",
       "    .dataframe tbody tr th:only-of-type {\n",
       "        vertical-align: middle;\n",
       "    }\n",
       "\n",
       "    .dataframe tbody tr th {\n",
       "        vertical-align: top;\n",
       "    }\n",
       "\n",
       "    .dataframe thead th {\n",
       "        text-align: right;\n",
       "    }\n",
       "</style>\n",
       "<table border=\"1\" class=\"dataframe\">\n",
       "  <thead>\n",
       "    <tr style=\"text-align: right;\">\n",
       "      <th></th>\n",
       "      <th>PassengerId</th>\n",
       "      <th>Survived</th>\n",
       "      <th>Pclass</th>\n",
       "      <th>Name</th>\n",
       "      <th>Sex</th>\n",
       "      <th>Age</th>\n",
       "      <th>SibSp</th>\n",
       "      <th>Parch</th>\n",
       "      <th>Ticket</th>\n",
       "      <th>Fare</th>\n",
       "      <th>Cabin</th>\n",
       "      <th>Embarked</th>\n",
       "    </tr>\n",
       "  </thead>\n",
       "  <tbody>\n",
       "    <tr>\n",
       "      <th>0</th>\n",
       "      <td>1</td>\n",
       "      <td>0</td>\n",
       "      <td>3</td>\n",
       "      <td>Braund, Mr. Owen Harris</td>\n",
       "      <td>male</td>\n",
       "      <td>22.0</td>\n",
       "      <td>1</td>\n",
       "      <td>0</td>\n",
       "      <td>A/5 21171</td>\n",
       "      <td>7.2500</td>\n",
       "      <td>NaN</td>\n",
       "      <td>S</td>\n",
       "    </tr>\n",
       "    <tr>\n",
       "      <th>1</th>\n",
       "      <td>2</td>\n",
       "      <td>1</td>\n",
       "      <td>1</td>\n",
       "      <td>Cumings, Mrs. John Bradley (Florence Briggs Th...</td>\n",
       "      <td>female</td>\n",
       "      <td>38.0</td>\n",
       "      <td>1</td>\n",
       "      <td>0</td>\n",
       "      <td>PC 17599</td>\n",
       "      <td>71.2833</td>\n",
       "      <td>C85</td>\n",
       "      <td>C</td>\n",
       "    </tr>\n",
       "    <tr>\n",
       "      <th>2</th>\n",
       "      <td>3</td>\n",
       "      <td>1</td>\n",
       "      <td>3</td>\n",
       "      <td>Heikkinen, Miss. Laina</td>\n",
       "      <td>female</td>\n",
       "      <td>26.0</td>\n",
       "      <td>0</td>\n",
       "      <td>0</td>\n",
       "      <td>STON/O2. 3101282</td>\n",
       "      <td>7.9250</td>\n",
       "      <td>NaN</td>\n",
       "      <td>S</td>\n",
       "    </tr>\n",
       "    <tr>\n",
       "      <th>3</th>\n",
       "      <td>4</td>\n",
       "      <td>1</td>\n",
       "      <td>1</td>\n",
       "      <td>Futrelle, Mrs. Jacques Heath (Lily May Peel)</td>\n",
       "      <td>female</td>\n",
       "      <td>35.0</td>\n",
       "      <td>1</td>\n",
       "      <td>0</td>\n",
       "      <td>113803</td>\n",
       "      <td>53.1000</td>\n",
       "      <td>C123</td>\n",
       "      <td>S</td>\n",
       "    </tr>\n",
       "    <tr>\n",
       "      <th>4</th>\n",
       "      <td>5</td>\n",
       "      <td>0</td>\n",
       "      <td>3</td>\n",
       "      <td>Allen, Mr. William Henry</td>\n",
       "      <td>male</td>\n",
       "      <td>35.0</td>\n",
       "      <td>0</td>\n",
       "      <td>0</td>\n",
       "      <td>373450</td>\n",
       "      <td>8.0500</td>\n",
       "      <td>NaN</td>\n",
       "      <td>S</td>\n",
       "    </tr>\n",
       "  </tbody>\n",
       "</table>\n",
       "</div>"
      ],
      "text/plain": [
       "   PassengerId  Survived  Pclass  \\\n",
       "0            1         0       3   \n",
       "1            2         1       1   \n",
       "2            3         1       3   \n",
       "3            4         1       1   \n",
       "4            5         0       3   \n",
       "\n",
       "                                                Name     Sex   Age  SibSp  \\\n",
       "0                            Braund, Mr. Owen Harris    male  22.0      1   \n",
       "1  Cumings, Mrs. John Bradley (Florence Briggs Th...  female  38.0      1   \n",
       "2                             Heikkinen, Miss. Laina  female  26.0      0   \n",
       "3       Futrelle, Mrs. Jacques Heath (Lily May Peel)  female  35.0      1   \n",
       "4                           Allen, Mr. William Henry    male  35.0      0   \n",
       "\n",
       "   Parch            Ticket     Fare Cabin Embarked  \n",
       "0      0         A/5 21171   7.2500   NaN        S  \n",
       "1      0          PC 17599  71.2833   C85        C  \n",
       "2      0  STON/O2. 3101282   7.9250   NaN        S  \n",
       "3      0            113803  53.1000  C123        S  \n",
       "4      0            373450   8.0500   NaN        S  "
      ]
     },
     "execution_count": 6,
     "metadata": {},
     "output_type": "execute_result"
    }
   ],
   "source": [
    "df.head()\n",
    "\n",
    "#used head function to display the first 5 rows of data"
   ]
  },
  {
   "attachments": {},
   "cell_type": "markdown",
   "metadata": {},
   "source": [
    "4. Describe the output of the `df.head()` function, what could it be used for?\n",
    "```\n",
    "When df.head() is called, where df is the var name (short for DataFrame), it displays a preview of the data. It shows the first 5 rows of people and their profiles of their identity on the titanic (fare, their cabin, their emabrkation status, ticket id, etc).\n",
    "```\n",
    "\n",
    "5. What information is avaiable to perform data analytics\n",
    "\n",
    "```\n",
    "df.head() displays a preview of the data. It shows the first 5 rows of people and their profiles of their identity on the titanic (fare, their cabin, their emabrkation status, ticket id, etc).\n",
    "```"
   ]
  },
  {
   "attachments": {},
   "cell_type": "markdown",
   "metadata": {},
   "source": [
    "5. Using the pandas documentation find the function that will give us a list of all the columns present in the dataset. Then Use the function in the codeblock below this question\n",
    "```\n",
    "The function in the pandas library to obtain a list of all the columns present in a dataset is \"columns\"\n",
    "```"
   ]
  },
  {
   "cell_type": "code",
   "execution_count": 20,
   "metadata": {},
   "outputs": [
    {
     "name": "stdout",
     "output_type": "stream",
     "text": [
      "['PassengerId', 'Survived', 'Pclass', 'Name', 'Sex', 'Age', 'SibSp', 'Parch', 'Ticket', 'Fare', 'Cabin', 'Embarked']\n"
     ]
    }
   ],
   "source": [
    "columns_list = df.columns.tolist()\n",
    "\n",
    "print(columns_list)\n",
    "\n",
    "# set columns_list var to be first the row which titles the columns using \"columns\" function and then the \"tolist\" function to convert to a list"
   ]
  },
  {
   "cell_type": "markdown",
   "metadata": {},
   "source": [
    "If we want to focus in on one column, we can do a similar operation that we will do with `dict`'s. \n",
    "\n",
    "Create a variable called `age`, then using square brackets set it equal to the dataframe's age column."
   ]
  },
  {
   "cell_type": "code",
   "execution_count": 25,
   "metadata": {},
   "outputs": [
    {
     "name": "stdout",
     "output_type": "stream",
     "text": [
      "0      22.0\n",
      "1      38.0\n",
      "2      26.0\n",
      "3      35.0\n",
      "4      35.0\n",
      "       ... \n",
      "886    27.0\n",
      "887    19.0\n",
      "888     NaN\n",
      "889    26.0\n",
      "890    32.0\n",
      "Name: Age, Length: 891, dtype: float64\n"
     ]
    }
   ],
   "source": [
    "age = df[\"Age\"]\n",
    "\n",
    "print(age)\n",
    "\n",
    "#set age to be the name of the 5th coll=umn in the df (titanic.csv DataFrame var)"
   ]
  },
  {
   "cell_type": "markdown",
   "metadata": {},
   "source": [
    "Now that we have a variable that is a specific column, we can use the `min`, `max` and `mean` functions with that variable. \n",
    "\n",
    "Run the codeblock below:"
   ]
  },
  {
   "cell_type": "code",
   "execution_count": 24,
   "metadata": {},
   "outputs": [
    {
     "name": "stdout",
     "output_type": "stream",
     "text": [
      "max() : 80.0\n",
      "min() : 0.42\n",
      "mean() : 29.69911764705882\n"
     ]
    }
   ],
   "source": [
    "print(\"max() :\", age.max())\n",
    "\n",
    "\n",
    "print(\"min() :\", age.min())\n",
    "\n",
    "\n",
    "print(\"mean() :\", age.mean())"
   ]
  },
  {
   "attachments": {},
   "cell_type": "markdown",
   "metadata": {},
   "source": [
    "6. What are the outputs of the various functions? How would these functions be useful in data science?\n",
    "```\n",
    "The outputs show the average age, youngest, and oldest age of the passengers from the titanic.csv file. This can be useful in data science for things like demographic analysis, health and saftey measures needed on future ocean liners that cater to the different age groups, personalized marketing for things people can buy on future ocean liners, etc.\n",
    "```\n",
    "\n",
    "7. Watch the following video about pandas `group_by` function. [Watch Here](https://www.youtube.com/watch?v=qy0fDqoMJx8). What is the purpose of the group by function? How can it be used in data science operations?\n",
    "```\n",
    "The groupby() function in Pandas is used to split data into groups based on certain criteria, perform operations on these groups, and then combine the results. In data science, it's pivotal for tasks like data aggregation, transformation, and filtration. For instance, it helps calculate statistics (like mean or sum) for different groups, transforming data within specific categories, or filtering out subsets that meet specific conditions. This functionality is essential in exploratory data analysis, allowing data scientists to uncover patterns and trends within different segments of the data. It is also used in feature engineering, enabling the creation of new variables based on group-specific calculations. In summary, groupby() is a fundamental tool for grouping and analyzing data in diverse ways, making it central to various data science operations.\n",
    "```"
   ]
  },
  {
   "cell_type": "markdown",
   "metadata": {},
   "source": [
    "Using our already existing dataframe (`df`) use the goup by function to figure out what the average age of those who survived the Titanic sinking vs those who did not survive."
   ]
  },
  {
   "cell_type": "code",
   "execution_count": 32,
   "metadata": {},
   "outputs": [
    {
     "data": {
      "text/plain": [
       "Survived\n",
       "0    30.626179\n",
       "1    28.343690\n",
       "Name: Age, dtype: float64"
      ]
     },
     "execution_count": 32,
     "metadata": {},
     "output_type": "execute_result"
    }
   ],
   "source": [
    "#df.groupby(\"Age\").Fare.mean()\n",
    "\n",
    "df.groupby(\"Survived\").Age.mean()\n",
    "\n",
    "# did df then group by survied to get the surived column and then age which will be sorted based on the mean age of everyone that survived and then the mean age of everyone that did not survive"
   ]
  }
 ],
 "metadata": {
  "kernelspec": {
   "display_name": "Python 3",
   "language": "python",
   "name": "python3"
  },
  "language_info": {
   "codemirror_mode": {
    "name": "ipython",
    "version": 3
   },
   "file_extension": ".py",
   "mimetype": "text/x-python",
   "name": "python",
   "nbconvert_exporter": "python",
   "pygments_lexer": "ipython3",
   "version": "3.10.9"
  },
  "vscode": {
   "interpreter": {
    "hash": "b0fa6594d8f4cbf19f97940f81e996739fb7646882a419484c72d19e05852a7e"
   }
  }
 },
 "nbformat": 4,
 "nbformat_minor": 2
}
