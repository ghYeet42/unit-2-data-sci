{
 "cells": [
  {
   "cell_type": "markdown",
   "metadata": {},
   "source": [
    "# Splitting Data\n",
    "In this lab you will begin working with data sets with multiple peices of information. Multiple pieces of information is normally stored in format called **CSV** which stands for Comma Seperate Values.\n",
    "\n",
    "For any questions, edit the appropriate markdown block and answer between the ` ``` ``` ` using complete sentences. \n",
    "\n",
    "For any code blocks you are to include comments explaining your code to recieve full credit."
   ]
  },
  {
   "attachments": {},
   "cell_type": "markdown",
   "metadata": {},
   "source": [
    "1. Open the file `sales.csv` in VSCode, how is the data organized? How can you differentiate between the various pieces of information included in this data set?\n",
    "```\n",
    "You differentiate between the various pieces of information included in this data set based on the placement of the commas\n",
    "```\n",
    "\n",
    "2. Is this a effective method of storing data? Why or why not?\n",
    "```\n",
    "Its effective because it can be managed and accessed with the use of split and creation of some variables\n",
    "```\n",
    "\n",
    "3. What types of information is stored in this file? How could this information be used by a business?\n",
    "```\n",
    "The information is stored in this file are names, total spent, subtotals and date\n",
    "```\n",
    "\n",
    "4. How would we seperate each piece of information to be used in a python program?\n",
    "```\n",
    "You could use the split function to seperate each piece of information to be used in a python program\n",
    "```"
   ]
  },
  {
   "cell_type": "markdown",
   "metadata": {},
   "source": [
    "Run the following code, and analyze the output"
   ]
  },
  {
   "cell_type": "code",
   "execution_count": 1,
   "metadata": {},
   "outputs": [
    {
     "name": "stdout",
     "output_type": "stream",
     "text": [
      "Counter({'B': 5, 'A': 3, 'C': 2})\n"
     ]
    }
   ],
   "source": [
    "from collections import Counter\n",
    "\n",
    "letters = ['B','B','A','B','C','A','B','B','A','C']\n",
    "\n",
    "letters_count = Counter(letters)\n",
    "\n",
    "print(letters_count)\n",
    "\n",
    "# outputs the letters in the list and how many times they appear"
   ]
  },
  {
   "attachments": {},
   "cell_type": "markdown",
   "metadata": {},
   "source": [
    "5. What was the output of the above code block? What did it accomplish?\n",
    "```\n",
    "The output of the above code block is \"Counter({'B': 5, 'A': 3, 'C': 2})\"\n",
    "```\n",
    "6. What is the format of the output? What data type does it most relate to?\n",
    "```\n",
    "It outputs the letters from the list in alphabetical order and how many times each of them appear\n",
    "```"
   ]
  },
  {
   "cell_type": "markdown",
   "metadata": {},
   "source": [
    "*Use the code block below to open `sales.csv` with python. Then create a variable called `content` which is equal to a list of each line of the file*"
   ]
  },
  {
   "cell_type": "code",
   "execution_count": 11,
   "metadata": {},
   "outputs": [
    {
     "name": "stdout",
     "output_type": "stream",
     "text": [
      "customer,subtotal,total,date\n",
      "\n"
     ]
    }
   ],
   "source": [
    "sales = open(\"sales.csv\") \n",
    "\n",
    "content = sales.readlines()\n",
    "\n",
    "print(content)\n",
    "# set sales.csv to be sales, set content as each line in sales with readline function"
   ]
  },
  {
   "cell_type": "markdown",
   "metadata": {},
   "source": [
    "*Using the `split` function, seperate each row of data. Then append the customer's name to a list called `customers`*"
   ]
  },
  {
   "cell_type": "code",
   "execution_count": 14,
   "metadata": {},
   "outputs": [
    {
     "ename": "AttributeError",
     "evalue": "'list' object has no attribute 'split'",
     "output_type": "error",
     "traceback": [
      "\u001b[0;31m---------------------------------------------------------------------------\u001b[0m",
      "\u001b[0;31mAttributeError\u001b[0m                            Traceback (most recent call last)",
      "Cell \u001b[0;32mIn[14], line 2\u001b[0m\n\u001b[1;32m      1\u001b[0m \u001b[39mfor\u001b[39;00m stuff \u001b[39min\u001b[39;00m content:\n\u001b[0;32m----> 2\u001b[0m     this \u001b[39m=\u001b[39m content\u001b[39m.\u001b[39;49msplit(\u001b[39m\"\u001b[39m\u001b[39m, \u001b[39m\u001b[39m\"\u001b[39m)\n\u001b[1;32m      4\u001b[0m \u001b[39mprint\u001b[39m(stuff)\n",
      "\u001b[0;31mAttributeError\u001b[0m: 'list' object has no attribute 'split'"
     ]
    }
   ],
   "source": [
    "for stuff in content:\n",
    "    this = content.split(\",\")\n",
    "\n",
    "print(this)\n",
    "\n"
   ]
  }
 ],
 "metadata": {
  "kernelspec": {
   "display_name": "Python 3",
   "language": "python",
   "name": "python3"
  },
  "language_info": {
   "codemirror_mode": {
    "name": "ipython",
    "version": 3
   },
   "file_extension": ".py",
   "mimetype": "text/x-python",
   "name": "python",
   "nbconvert_exporter": "python",
   "pygments_lexer": "ipython3",
   "version": "3.10.9 (main, Dec 15 2022, 10:44:50) [Clang 14.0.0 (clang-1400.0.29.202)]"
  },
  "vscode": {
   "interpreter": {
    "hash": "b0fa6594d8f4cbf19f97940f81e996739fb7646882a419484c72d19e05852a7e"
   }
  }
 },
 "nbformat": 4,
 "nbformat_minor": 2
}
