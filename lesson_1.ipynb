{
 "cells": [
  {
   "cell_type": "code",
   "execution_count": 49,
   "metadata": {},
   "outputs": [
    {
     "data": {
      "image/png": "[encoded data removed]",
      "text/plain": [
       "<Figure size 200x200 with 1 Axes>"
      ]
     },
     "metadata": {},
     "output_type": "display_data"
    }
   ],
   "source": [
    "# Import necessary libraries\n",
    "import matplotlib.pyplot as pplt\n",
    "from matplotlib import numpy as np\n",
    "\n",
    "# Set a custom style for the plot (you may want to replace '_mpl-gallery-nogrid' with an actual style)\n",
    "pplt.style.use('_mpl-gallery-nogrid')\n",
    "\n",
    "# Data preparation\n",
    "x = [1, 2, 3, 4]  # Data points for the pie chart\n",
    "colors = pplt.get_cmap('Blues')(np.linspace(0.2, 0.7, len(x)))  # Generate colors for the pie chart segments\n",
    "\n",
    "# Plotting the pie chart\n",
    "fig, ax = pplt.subplots()\n",
    "ax.pie(x, colors=colors, radius=3, center=(4, 4),\n",
    "       wedgeprops={\"linewidth\": 1, \"edgecolor\": \"red\"}, frame=True)  # Customize pie chart appearance\n",
    "\n",
    "# Set x and y axis limits and ticks for the plot\n",
    "ax.set(xlim=(0, 8), xticks=np.arange(1, 8),\n",
    "       ylim=(0, 8), yticks=np.arange(1, 8))\n",
    "\n",
    "# Display the plot\n",
    "pplt.show()\n"
   ]
  },
  {
   "cell_type": "code",
   "execution_count": 50,
   "metadata": {},
   "outputs": [
    {
     "data": {
      "image/png": "[encoded data removed]",
      "text/plain": [
       "<Figure size 200x200 with 1 Axes>"
      ]
     },
     "metadata": {},
     "output_type": "display_data"
    }
   ],
   "source": [
    "# Style for the plot\n",
    "pplt.style.use('_mpl-gallery')\n",
    "\n",
    "# Generate random data with a normal distribution\n",
    "np.random.seed(1)\n",
    "x = 4 + np.random.normal(0, 1.5, 200)  # Mean: 4, Standard Deviation: 1.5, Number of Samples: 200\n",
    "\n",
    "# Plotting the histogram\n",
    "fig, ax = pplt.subplots()\n",
    "ax.hist(x, bins=8, linewidth=0.5, edgecolor=\"orange\")  # Customize histogram appearance with 8 bins and orange edges\n",
    "\n",
    "# Set x and y axis limits and ticks for the plot\n",
    "ax.set(xlim=(0, 8), xticks=np.arange(1, 8),\n",
    "       ylim=(0, 56), yticks=np.linspace(0, 56, 9))\n",
    "\n",
    "# Display the plot\n",
    "pplt.show()\n",
    "\n",
    "# Set the title for the plot (note: the title should be set before displaying the plot)"
   ]
  },
  {
   "cell_type": "code",
   "execution_count": 10,
   "metadata": {},
   "outputs": [],
   "source": [
    "print(\"real\")\n",
    "\n",
    "tdolist = []\n",
    "\n",
    "#empty todo list set to being a variable called \"tdolist\" that is a list\n",
    "\n",
    "tdo = input(\"Do you want to add or delete a todo? TYPE d/a: \")\n",
    "\n",
    "#user input to add or subtract a todo\n",
    "\n",
    "while True:\n",
    "    if tdo == \"a\": #if state for deleting todos\n",
    "        print()\n",
    "        real = input(\"Write what do you want to add: \") #variable made for adding todos\n",
    "        print()\n",
    "        tdolist.append(real) #the user's input is appended to their todo list (tdolist variable)\n",
    "        for tdos in tdolist:\n",
    "            print (\"Your updated list is: \" + str(tdos)) #for loop to iterate through printing each item in the list to make the UX a little better for deletion\n",
    "        print()\n",
    "        tdo = input(\"Do you want to add or delete a todo? TYPE d/a: \")\n",
    "        print()\n",
    "    elif tdo == \"d\": #elif for deleting todos\n",
    "        print()\n",
    "        fake = input(\"Type the number of the item you want to delete: \") #variable made for adding todos\n",
    "        print()\n",
    "        del tdolist[int(fake) - 1] #removes the specific item in place of the INDEX of the number that the user input, Subtract 1 from the number that the user inputs and you get the index of the item they wish to remove.\n",
    "        print()\n",
    "        for tdos in tdolist:\n",
    "            print (\"Your updated list is: \" + str(tdos)) #for loop to iterate through printing each item in the list to make the UX better for deletion\n",
    "        print()\n",
    "        tdo = input(\"Do you want to add or delete a todo? TYPE d/a: \")\n",
    "        print()\n",
    "    elif tdolist == [] and tdo == \"d\": #this is supposed to stop the user from trying to delete from an empty list..\n",
    "        print(\"You can't do that!\")\n",
    "        break\n",
    "        \n",
    "#while loop iterates through the processes of adding or deleting items"
   ]
  },
  {
   "attachments": {},
   "cell_type": "markdown",
   "metadata": {},
   "source": [
    "# Money\n",
    "\n",
    "## real\n",
    "\n",
    "market downing\n",
    "\n",
    "```Python\n",
    "print(\"real\")\n",
    "```"
   ]
  }
 ],
 "metadata": {
  "kernelspec": {
   "display_name": "Python 3",
   "language": "python",
   "name": "python3"
  },
  "language_info": {
   "codemirror_mode": {
    "name": "ipython",
    "version": 3
   },
   "file_extension": ".py",
   "mimetype": "text/x-python",
   "name": "python",
   "nbconvert_exporter": "python",
   "pygments_lexer": "ipython3",
   "version": "3.10.9 (main, Dec 15 2022, 10:44:50) [Clang 14.0.0 (clang-1400.0.29.202)]"
  },
  "orig_nbformat": 4,
  "vscode": {
   "interpreter": {
    "hash": "b0fa6594d8f4cbf19f97940f81e996739fb7646882a419484c72d19e05852a7e"
   }
  }
 },
 "nbformat": 4,
 "nbformat_minor": 2
}
